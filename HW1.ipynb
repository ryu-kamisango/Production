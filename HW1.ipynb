{
  "nbformat": 4,
  "nbformat_minor": 0,
  "metadata": {
    "colab": {
      "name": "HW1.ipynb",
      "provenance": [],
      "authorship_tag": "ABX9TyPsvF5KDNDggx3Qk0gpQYRM"
    },
    "kernelspec": {
      "name": "python3",
      "display_name": "Python 3"
    }
  },
  "cells": [
    {
      "cell_type": "code",
      "metadata": {
        "id": "6yq4_feytgYC",
        "colab": {
          "base_uri": "https://localhost:8080/",
          "height": 87
        },
        "outputId": "b0ef2bcb-b40d-4f36-d066-5cace362d402"
      },
      "source": [
        "X = input(\"あなた:\")\n",
        "print(\"わたし:\",X,\"の意味は？\")\n",
        "\n",
        "print(\"ABC\", end=\"\\n\")\n",
        "print(\"abc\", end=\"\")\n"
      ],
      "execution_count": null,
      "outputs": [
        {
          "output_type": "stream",
          "text": [
            "あなた:aiueo\n",
            "わたし: aiueo の意味は？\n",
            "ABC\n",
            "abc"
          ],
          "name": "stdout"
        }
      ]
    }
  ]
}